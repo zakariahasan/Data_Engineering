{
 "cells": [
  {
   "cell_type": "code",
   "execution_count": 58,
   "metadata": {
    "ExecuteTime": {
     "end_time": "2020-11-14T16:03:10.380198Z",
     "start_time": "2020-11-14T16:03:10.369464Z"
    }
   },
   "outputs": [],
   "source": [
    "# Optimizing Code Performance On Large Datasets"
   ]
  },
  {
   "cell_type": "code",
   "execution_count": 1,
   "metadata": {
    "ExecuteTime": {
     "end_time": "2020-11-14T09:23:11.299786Z",
     "start_time": "2020-11-14T09:23:06.330363Z"
    }
   },
   "outputs": [],
   "source": [
    "import pandas as pd\n",
    "import numpy as np \n"
   ]
  },
  {
   "cell_type": "code",
   "execution_count": 2,
   "metadata": {
    "ExecuteTime": {
     "end_time": "2020-11-14T09:24:01.288653Z",
     "start_time": "2020-11-14T09:24:01.002971Z"
    }
   },
   "outputs": [
    {
     "name": "stdout",
     "output_type": "stream",
     "text": [
      "<class 'pandas.core.frame.DataFrame'>\n",
      "RangeIndex: 34558 entries, 0 to 34557\n",
      "Data columns (total 27 columns):\n",
      " #   Column                  Non-Null Count  Dtype  \n",
      "---  ------                  --------------  -----  \n",
      " 0   ExhibitionID            34129 non-null  float64\n",
      " 1   ExhibitionNumber        34558 non-null  object \n",
      " 2   ExhibitionTitle         34558 non-null  object \n",
      " 3   ExhibitionCitationDate  34557 non-null  object \n",
      " 4   ExhibitionBeginDate     34558 non-null  object \n",
      " 5   ExhibitionEndDate       33354 non-null  object \n",
      " 6   ExhibitionSortOrder     34558 non-null  float64\n",
      " 7   ExhibitionURL           34125 non-null  object \n",
      " 8   ExhibitionRole          34424 non-null  object \n",
      " 9   ConstituentID           34044 non-null  float64\n",
      " 10  ConstituentType         34424 non-null  object \n",
      " 11  DisplayName             34424 non-null  object \n",
      " 12  AlphaSort               34424 non-null  object \n",
      " 13  FirstName               31499 non-null  object \n",
      " 14  MiddleName              3804 non-null   object \n",
      " 15  LastName                31998 non-null  object \n",
      " 16  Suffix                  157 non-null    object \n",
      " 17  Institution             2458 non-null   object \n",
      " 18  Nationality             26072 non-null  object \n",
      " 19  ConstituentBeginDate    25290 non-null  float64\n",
      " 20  ConstituentEndDate      19819 non-null  float64\n",
      " 21  ArtistBio               26089 non-null  object \n",
      " 22  Gender                  25796 non-null  object \n",
      " 23  VIAFID                  26996 non-null  float64\n",
      " 24  WikidataID              22241 non-null  object \n",
      " 25  ULANID                  21688 non-null  float64\n",
      " 26  ConstituentURL          34044 non-null  object \n",
      "dtypes: float64(7), object(20)\n",
      "memory usage: 7.1+ MB\n"
     ]
    }
   ],
   "source": [
    "moma = pd.read_csv('data/moma.csv')\n",
    "moma.info()"
   ]
  },
  {
   "cell_type": "code",
   "execution_count": 4,
   "metadata": {
    "ExecuteTime": {
     "end_time": "2020-11-14T09:25:01.870122Z",
     "start_time": "2020-11-14T09:25:01.852546Z"
    }
   },
   "outputs": [
    {
     "name": "stdout",
     "output_type": "stream",
     "text": [
      "<class 'pandas.core.frame.DataFrame'>\n",
      "RangeIndex: 4 entries, 0 to 3\n",
      "Data columns (total 5 columns):\n",
      " #   Column  Non-Null Count  Dtype  \n",
      "---  ------  --------------  -----  \n",
      " 0   Name    4 non-null      object \n",
      " 1   Age     4 non-null      int64  \n",
      " 2   Weight  4 non-null      int64  \n",
      " 3   Height  4 non-null      float64\n",
      " 4   Gender  4 non-null      object \n",
      "dtypes: float64(1), int64(2), object(2)\n",
      "memory usage: 288.0+ bytes\n"
     ]
    }
   ],
   "source": [
    "people = pd.read_csv('data/people.csv')\n",
    "people.info()"
   ]
  },
  {
   "cell_type": "code",
   "execution_count": 13,
   "metadata": {
    "ExecuteTime": {
     "end_time": "2020-11-14T09:28:58.177154Z",
     "start_time": "2020-11-14T09:28:58.171002Z"
    }
   },
   "outputs": [
    {
     "name": "stdout",
     "output_type": "stream",
     "text": [
      "-128\n",
      "127\n"
     ]
    }
   ],
   "source": [
    "# verify the minimum and maximum values for each integer subtype\n",
    "print(np.iinfo('int8').min)\n",
    "print(np.iinfo('int8').max)"
   ]
  },
  {
   "cell_type": "code",
   "execution_count": 15,
   "metadata": {
    "ExecuteTime": {
     "end_time": "2020-11-14T09:29:42.540112Z",
     "start_time": "2020-11-14T09:29:42.532567Z"
    }
   },
   "outputs": [
    {
     "name": "stdout",
     "output_type": "stream",
     "text": [
      "-65500.0\n",
      "65500.0\n"
     ]
    }
   ],
   "source": [
    "# verify the minimum and maximum values for each float subtype\n",
    "print(np.finfo('float16').min)\n",
    "print(np.finfo('float16').max)"
   ]
  },
  {
   "cell_type": "code",
   "execution_count": 17,
   "metadata": {
    "ExecuteTime": {
     "end_time": "2020-11-14T09:32:03.345350Z",
     "start_time": "2020-11-14T09:32:03.337001Z"
    }
   },
   "outputs": [
    {
     "name": "stdout",
     "output_type": "stream",
     "text": [
      "Index     128\n",
      "Name      245\n",
      "Age        32\n",
      "Weight     32\n",
      "Height     32\n",
      "Gender    232\n",
      "dtype: int64\n"
     ]
    }
   ],
   "source": [
    "# display the deep memory footprint of each column\n",
    "print(people.memory_usage(deep=True))"
   ]
  },
  {
   "cell_type": "code",
   "execution_count": 19,
   "metadata": {
    "ExecuteTime": {
     "end_time": "2020-11-14T09:32:53.461830Z",
     "start_time": "2020-11-14T09:32:53.450167Z"
    },
    "scrolled": true
   },
   "outputs": [
    {
     "name": "stdout",
     "output_type": "stream",
     "text": [
      "     Name Gender\n",
      "0    Rita      F\n",
      "1  Dexter      M\n",
      "2    Anna      F\n",
      "3     Bob      M\n"
     ]
    }
   ],
   "source": [
    "# If we want to get a dataframe containing only the columns with the object datatype \n",
    "obj_cols = people.select_dtypes(include=['object'])\n",
    "print(obj_cols)"
   ]
  },
  {
   "cell_type": "code",
   "execution_count": 22,
   "metadata": {
    "ExecuteTime": {
     "end_time": "2020-11-14T09:36:55.934810Z",
     "start_time": "2020-11-14T09:36:55.830502Z"
    }
   },
   "outputs": [
    {
     "name": "stdout",
     "output_type": "stream",
     "text": [
      "43.76634883880615 MB\n"
     ]
    }
   ],
   "source": [
    "obj_cols = moma.select_dtypes(include=['object'])\n",
    "obj_cols_mem1 = obj_cols.memory_usage(deep=True)\n",
    "obj_cols_sum = obj_cols_mem1.sum() / 2**20\n",
    "print(obj_cols_sum,'MB')"
   ]
  },
  {
   "cell_type": "code",
   "execution_count": 28,
   "metadata": {
    "ExecuteTime": {
     "end_time": "2020-11-14T09:43:21.152677Z",
     "start_time": "2020-11-14T09:43:21.004997Z"
    },
    "scrolled": true
   },
   "outputs": [
    {
     "name": "stdout",
     "output_type": "stream",
     "text": [
      "<class 'pandas.core.frame.DataFrame'>\n",
      "RangeIndex: 34558 entries, 0 to 34557\n",
      "Data columns (total 27 columns):\n",
      " #   Column                  Non-Null Count  Dtype  \n",
      "---  ------                  --------------  -----  \n",
      " 0   ExhibitionID            34129 non-null  float64\n",
      " 1   ExhibitionNumber        34558 non-null  object \n",
      " 2   ExhibitionTitle         34558 non-null  object \n",
      " 3   ExhibitionCitationDate  34557 non-null  object \n",
      " 4   ExhibitionBeginDate     34558 non-null  object \n",
      " 5   ExhibitionEndDate       33354 non-null  object \n",
      " 6   ExhibitionSortOrder     34558 non-null  float64\n",
      " 7   ExhibitionURL           34125 non-null  object \n",
      " 8   ExhibitionRole          34424 non-null  object \n",
      " 9   ConstituentID           34044 non-null  float64\n",
      " 10  ConstituentType         34424 non-null  object \n",
      " 11  DisplayName             34424 non-null  object \n",
      " 12  AlphaSort               34424 non-null  object \n",
      " 13  FirstName               31499 non-null  object \n",
      " 14  MiddleName              3804 non-null   object \n",
      " 15  LastName                31998 non-null  object \n",
      " 16  Suffix                  157 non-null    object \n",
      " 17  Institution             2458 non-null   object \n",
      " 18  Nationality             26072 non-null  object \n",
      " 19  ConstituentBeginDate    25290 non-null  float64\n",
      " 20  ConstituentEndDate      19819 non-null  float64\n",
      " 21  ArtistBio               26089 non-null  object \n",
      " 22  Gender                  25796 non-null  object \n",
      " 23  VIAFID                  26996 non-null  float64\n",
      " 24  WikidataID              22241 non-null  object \n",
      " 25  ULANID                  21688 non-null  float64\n",
      " 26  ConstituentURL          34044 non-null  object \n",
      "dtypes: float64(7), object(20)\n",
      "memory usage: 7.1+ MB\n",
      "None\n",
      "\n",
      "--------------------------------------------------\n",
      "\n",
      "<class 'pandas.core.frame.DataFrame'>\n",
      "RangeIndex: 34558 entries, 0 to 34557\n",
      "Data columns (total 27 columns):\n",
      " #   Column                  Non-Null Count  Dtype  \n",
      "---  ------                  --------------  -----  \n",
      " 0   ExhibitionID            34129 non-null  float64\n",
      " 1   ExhibitionNumber        34558 non-null  object \n",
      " 2   ExhibitionTitle         34558 non-null  object \n",
      " 3   ExhibitionCitationDate  34557 non-null  object \n",
      " 4   ExhibitionBeginDate     34558 non-null  object \n",
      " 5   ExhibitionEndDate       33354 non-null  object \n",
      " 6   ExhibitionSortOrder     34558 non-null  float64\n",
      " 7   ExhibitionURL           34125 non-null  object \n",
      " 8   ExhibitionRole          34424 non-null  object \n",
      " 9   ConstituentID           34044 non-null  float64\n",
      " 10  ConstituentType         34424 non-null  object \n",
      " 11  DisplayName             34424 non-null  object \n",
      " 12  AlphaSort               34424 non-null  object \n",
      " 13  FirstName               31499 non-null  object \n",
      " 14  MiddleName              3804 non-null   object \n",
      " 15  LastName                31998 non-null  object \n",
      " 16  Suffix                  157 non-null    object \n",
      " 17  Institution             2458 non-null   object \n",
      " 18  Nationality             26072 non-null  object \n",
      " 19  ConstituentBeginDate    25290 non-null  float64\n",
      " 20  ConstituentEndDate      19819 non-null  float64\n",
      " 21  ArtistBio               26089 non-null  object \n",
      " 22  Gender                  25796 non-null  object \n",
      " 23  VIAFID                  26996 non-null  float64\n",
      " 24  WikidataID              22241 non-null  object \n",
      " 25  ULANID                  21688 non-null  float64\n",
      " 26  ConstituentURL          34044 non-null  object \n",
      "dtypes: float64(7), object(20)\n",
      "memory usage: 45.6 MB\n",
      "None\n"
     ]
    }
   ],
   "source": [
    "print(moma.info())\n",
    "print('\\n--------------------------------------------------\\n')\n",
    "print(moma.info(memory_usage=\"deep\"))"
   ]
  },
  {
   "cell_type": "code",
   "execution_count": 30,
   "metadata": {
    "ExecuteTime": {
     "end_time": "2020-11-14T09:52:44.182310Z",
     "start_time": "2020-11-14T09:52:44.176017Z"
    }
   },
   "outputs": [
    {
     "name": "stdout",
     "output_type": "stream",
     "text": [
      "BlockManager\n",
      "Items: Index(['ExhibitionID', 'ExhibitionNumber', 'ExhibitionTitle',\n",
      "       'ExhibitionCitationDate', 'ExhibitionBeginDate', 'ExhibitionEndDate',\n",
      "       'ExhibitionSortOrder', 'ExhibitionURL', 'ExhibitionRole',\n",
      "       'ConstituentID', 'ConstituentType', 'DisplayName', 'AlphaSort',\n",
      "       'FirstName', 'MiddleName', 'LastName', 'Suffix', 'Institution',\n",
      "       'Nationality', 'ConstituentBeginDate', 'ConstituentEndDate',\n",
      "       'ArtistBio', 'Gender', 'VIAFID', 'WikidataID', 'ULANID',\n",
      "       'ConstituentURL'],\n",
      "      dtype='object')\n",
      "Axis 1: RangeIndex(start=0, stop=34558, step=1)\n",
      "FloatBlock: [ 0  6  9 19 20 23 25], 7 x 34558, dtype: float64\n",
      "ObjectBlock: [ 1  2  3  4  5  7  8 10 11 12 13 14 15 16 17 18 21 22 24 26], 20 x 34558, dtype: object\n"
     ]
    }
   ],
   "source": [
    "# private attribute to retrieve the underlying BlockManager instance and display it using the print() function\n",
    "print(moma._data)"
   ]
  },
  {
   "cell_type": "code",
   "execution_count": 33,
   "metadata": {
    "ExecuteTime": {
     "end_time": "2020-11-14T10:11:40.088643Z",
     "start_time": "2020-11-14T10:11:40.039414Z"
    }
   },
   "outputs": [
    {
     "name": "stdout",
     "output_type": "stream",
     "text": [
      "ExhibitionID              429\n",
      "ExhibitionSortOrder         0\n",
      "ConstituentID             514\n",
      "ConstituentBeginDate     9268\n",
      "ConstituentEndDate      14739\n",
      "VIAFID                   7562\n",
      "ULANID                  12870\n",
      "dtype: int64\n",
      "int16\n"
     ]
    }
   ],
   "source": [
    "def change_to_int(df, col_name):\n",
    "    # Get the minimum and maximum values\n",
    "    col_max = df[col_name].max()\n",
    "    col_min = df[col_name].min()\n",
    "    # Find the datatype\n",
    "    for dtype_name in ['int8', 'int16', 'int32', 'int64']:\n",
    "        # Check if this datatype can hold all values\n",
    "        if col_max <  np.iinfo(dtype_name).max and col_min > np.iinfo(dtype_name).min:\n",
    "            df[col_name] = df[col_name].astype(dtype_name)\n",
    "            break\n",
    "\n",
    "float_moma = moma.select_dtypes(include=['float64'])\n",
    "print(float_moma.isnull().sum())\n",
    "# By running we got that ExhibitionSortOrder has no missing values\n",
    "change_to_int(moma, 'ExhibitionSortOrder')\n",
    "print(moma['ExhibitionSortOrder'].dtype)"
   ]
  },
  {
   "cell_type": "code",
   "execution_count": 35,
   "metadata": {
    "ExecuteTime": {
     "end_time": "2020-11-14T10:16:15.621798Z",
     "start_time": "2020-11-14T10:16:15.312491Z"
    }
   },
   "outputs": [
    {
     "name": "stdout",
     "output_type": "stream",
     "text": [
      "int16\n"
     ]
    }
   ],
   "source": [
    "# Reset the dataframe to original CSV\n",
    "moma = pd.read_csv(\"data/moma.csv\")\n",
    "moma['ExhibitionSortOrder'] = moma['ExhibitionSortOrder'].astype('int')\n",
    "moma['ExhibitionSortOrder'] = pd.to_numeric(moma['ExhibitionSortOrder'], downcast='integer')\n",
    "print(moma['ExhibitionSortOrder'].dtype)"
   ]
  },
  {
   "cell_type": "code",
   "execution_count": 37,
   "metadata": {
    "ExecuteTime": {
     "end_time": "2020-11-14T10:18:33.450695Z",
     "start_time": "2020-11-14T10:18:33.442585Z"
    }
   },
   "outputs": [],
   "source": [
    "# Optimizing Float Columns with Subtypes\n",
    "float_cols = moma.select_dtypes(include=['float']).columns\n",
    "\n",
    "for col in float_cols:\n",
    "    moma[col] = pd.to_numeric(moma[col], downcast='float')"
   ]
  },
  {
   "cell_type": "code",
   "execution_count": 38,
   "metadata": {
    "ExecuteTime": {
     "end_time": "2020-11-14T10:21:06.094494Z",
     "start_time": "2020-11-14T10:21:05.854855Z"
    }
   },
   "outputs": [
    {
     "name": "stdout",
     "output_type": "stream",
     "text": [
      "Index                     128\n",
      "ExhibitionBeginDate    276464\n",
      "ExhibitionEndDate      276464\n",
      "dtype: int64\n"
     ]
    }
   ],
   "source": [
    "#Converting to DataTime\n",
    "moma[\"ExhibitionBeginDate\"] = pd.to_datetime(moma[\"ExhibitionBeginDate\"])\n",
    "moma[\"ExhibitionEndDate\"] = pd.to_datetime(moma[\"ExhibitionEndDate\"])\n",
    "\n",
    "print(moma[[\"ExhibitionBeginDate\", \"ExhibitionEndDate\"]].memory_usage(deep=True))"
   ]
  },
  {
   "cell_type": "code",
   "execution_count": 39,
   "metadata": {
    "ExecuteTime": {
     "end_time": "2020-11-14T10:25:01.707605Z",
     "start_time": "2020-11-14T10:25:01.685886Z"
    }
   },
   "outputs": [
    {
     "name": "stdout",
     "output_type": "stream",
     "text": [
      "34901\n"
     ]
    }
   ],
   "source": [
    "#Converting to Categorical to Save Memory\n",
    "moma['ConstituentType'] = moma['ConstituentType'].astype('category')\n",
    "print(moma['ConstituentType'].memory_usage(deep=True))"
   ]
  },
  {
   "cell_type": "code",
   "execution_count": 40,
   "metadata": {
    "ExecuteTime": {
     "end_time": "2020-11-14T10:26:19.371788Z",
     "start_time": "2020-11-14T10:26:19.362714Z"
    }
   },
   "outputs": [
    {
     "data": {
      "text/plain": [
       "\"We should stick to using the category type primarily for object columns where less than 50% of the values are unique. If all of the values in a column are unique, the category type will end up using more memory. That's because the column is storing all of the raw string values in addition to the integer category codes.\""
      ]
     },
     "execution_count": 40,
     "metadata": {},
     "output_type": "execute_result"
    }
   ],
   "source": [
    "'''We should stick to using the category type primarily for object columns where less than 50% of the values are unique. If all of the values in a column are unique, the category type will end up using more memory. That's because the column is storing all of the raw string values in addition to the integer category codes.'''"
   ]
  },
  {
   "cell_type": "code",
   "execution_count": 41,
   "metadata": {
    "ExecuteTime": {
     "end_time": "2020-11-14T10:26:56.300652Z",
     "start_time": "2020-11-14T10:26:55.769881Z"
    }
   },
   "outputs": [
    {
     "name": "stdout",
     "output_type": "stream",
     "text": [
      "<class 'pandas.core.frame.DataFrame'>\n",
      "RangeIndex: 34558 entries, 0 to 34557\n",
      "Data columns (total 27 columns):\n",
      " #   Column                  Non-Null Count  Dtype         \n",
      "---  ------                  --------------  -----         \n",
      " 0   ExhibitionID            34129 non-null  float32       \n",
      " 1   ExhibitionNumber        34558 non-null  category      \n",
      " 2   ExhibitionTitle         34558 non-null  category      \n",
      " 3   ExhibitionCitationDate  34557 non-null  category      \n",
      " 4   ExhibitionBeginDate     34558 non-null  datetime64[ns]\n",
      " 5   ExhibitionEndDate       33354 non-null  datetime64[ns]\n",
      " 6   ExhibitionSortOrder     34558 non-null  int16         \n",
      " 7   ExhibitionURL           34125 non-null  category      \n",
      " 8   ExhibitionRole          34424 non-null  category      \n",
      " 9   ConstituentID           34044 non-null  float32       \n",
      " 10  ConstituentType         34424 non-null  category      \n",
      " 11  DisplayName             34424 non-null  category      \n",
      " 12  AlphaSort               34424 non-null  category      \n",
      " 13  FirstName               31499 non-null  category      \n",
      " 14  MiddleName              3804 non-null   category      \n",
      " 15  LastName                31998 non-null  category      \n",
      " 16  Suffix                  157 non-null    category      \n",
      " 17  Institution             2458 non-null   category      \n",
      " 18  Nationality             26072 non-null  category      \n",
      " 19  ConstituentBeginDate    25290 non-null  float32       \n",
      " 20  ConstituentEndDate      19819 non-null  float32       \n",
      " 21  ArtistBio               26089 non-null  category      \n",
      " 22  Gender                  25796 non-null  category      \n",
      " 23  VIAFID                  26996 non-null  float32       \n",
      " 24  WikidataID              22241 non-null  category      \n",
      " 25  ULANID                  21688 non-null  float32       \n",
      " 26  ConstituentURL          34044 non-null  category      \n",
      "dtypes: category(18), datetime64[ns](2), float32(6), int16(1)\n",
      "memory usage: 8.9 MB\n",
      "None\n"
     ]
    }
   ],
   "source": [
    "# Convert all object columns where less than half of the column's values are unique to the category dtype.\n",
    "for col in moma.select_dtypes(include=['object']):\n",
    "    num_unique_values = len(moma[col].unique())\n",
    "    num_total_values = len(moma[col])\n",
    "    if num_unique_values / num_total_values < 0.5:\n",
    "        moma[col] = moma[col].astype('category')\n",
    "        \n",
    "print(moma.info(memory_usage='deep'))"
   ]
  },
  {
   "cell_type": "markdown",
   "metadata": {},
   "source": [
    "# Processing DataFrames in Chunks"
   ]
  },
  {
   "cell_type": "code",
   "execution_count": 42,
   "metadata": {
    "ExecuteTime": {
     "end_time": "2020-11-14T10:53:24.327497Z",
     "start_time": "2020-11-14T10:53:21.943378Z"
    }
   },
   "outputs": [
    {
     "data": {
      "image/png": "[encoded data removed]",
      "text/plain": [
       "<Figure size 432x288 with 1 Axes>"
      ]
     },
     "metadata": {
      "needs_background": "light"
     },
     "output_type": "display_data"
    }
   ],
   "source": [
    "import pandas as pd\n",
    "import matplotlib.pyplot as plt\n",
    "\n",
    "memory_footprints = []\n",
    "chunk_iter = pd.read_csv(\"data/moma.csv\", chunksize=250)\n",
    "for chunk in chunk_iter:\n",
    "    memory_footprints.append(chunk.memory_usage(deep=True).sum()/(1024*1024))\n",
    "\n",
    "plt.hist(memory_footprints)\n",
    "plt.show()"
   ]
  },
  {
   "cell_type": "code",
   "execution_count": 44,
   "metadata": {
    "ExecuteTime": {
     "end_time": "2020-11-14T10:55:58.694430Z",
     "start_time": "2020-11-14T10:55:57.664177Z"
    }
   },
   "outputs": [
    {
     "name": "stdout",
     "output_type": "stream",
     "text": [
      "34558\n"
     ]
    }
   ],
   "source": [
    "# Counting Across Chunks\n",
    "num_rows = 0\n",
    "chunk_iter = pd.read_csv(\"data/moma.csv\", chunksize=250)\n",
    "for chunk in chunk_iter:\n",
    "    num_rows += len(chunk)\n",
    "print(num_rows)"
   ]
  },
  {
   "cell_type": "code",
   "execution_count": 46,
   "metadata": {
    "ExecuteTime": {
     "end_time": "2020-11-14T10:57:02.677485Z",
     "start_time": "2020-11-14T10:57:01.586093Z"
    }
   },
   "outputs": [
    {
     "name": "stdout",
     "output_type": "stream",
     "text": [
      "0        79.0\n",
      "1        67.0\n",
      "2        55.0\n",
      "3        37.0\n",
      "4        32.0\n",
      "         ... \n",
      "34553     NaN\n",
      "34554     NaN\n",
      "34555     NaN\n",
      "34556     NaN\n",
      "34557     NaN\n",
      "Length: 34558, dtype: float64\n"
     ]
    }
   ],
   "source": [
    "# Batch Processing\n",
    "dtypes = {\"ConstituentBeginDate\": \"float\", \"ConstituentEndDate\": \"float\"}\n",
    "chunk_iter = pd.read_csv(\"data/moma.csv\", chunksize=250, dtype=dtypes)\n",
    "lifespans = []\n",
    "for chunk in chunk_iter:\n",
    "    diff = chunk['ConstituentEndDate'] - chunk['ConstituentBeginDate']\n",
    "    lifespans.append(diff)\n",
    "lifespans_dist = pd.concat(lifespans)\n",
    "print(lifespans_dist)"
   ]
  },
  {
   "cell_type": "code",
   "execution_count": 48,
   "metadata": {
    "ExecuteTime": {
     "end_time": "2020-11-14T10:59:41.678782Z",
     "start_time": "2020-11-14T10:59:40.999501Z"
    }
   },
   "outputs": [
    {
     "name": "stdout",
     "output_type": "stream",
     "text": [
      "Male      208\n",
      "Female      9\n",
      "Male      193\n",
      "Female      6\n",
      "Male      195\n",
      "         ... \n",
      "Male      186\n",
      "Female     23\n",
      "Male      195\n",
      "Female     30\n",
      "Male       53\n",
      "Name: Gender, Length: 278, dtype: int64\n"
     ]
    }
   ],
   "source": [
    "# Counting Unique Values\n",
    "chunk_iter = pd.read_csv(\"data/moma.csv\", chunksize=250, usecols=['Gender'])\n",
    "overall_vc = list()\n",
    "for chunk in chunk_iter:\n",
    "    chunk_vc = chunk['Gender'].value_counts()\n",
    "    overall_vc.append(chunk_vc)\n",
    "combined_vc = pd.concat(overall_vc)\n",
    "print(combined_vc)"
   ]
  },
  {
   "cell_type": "code",
   "execution_count": 49,
   "metadata": {
    "ExecuteTime": {
     "end_time": "2020-11-14T13:24:37.343641Z",
     "start_time": "2020-11-14T13:24:36.639020Z"
    }
   },
   "outputs": [
    {
     "name": "stdout",
     "output_type": "stream",
     "text": [
      "Female     2527\n",
      "Male      23268\n",
      "male          1\n",
      "Name: Gender, dtype: int64\n"
     ]
    }
   ],
   "source": [
    "chunk_iter = pd.read_csv(\"data/moma.csv\", chunksize=250, usecols=['Gender'])\n",
    "overall_vc = list()\n",
    "for chunk in chunk_iter:\n",
    "    chunk_vc = chunk['Gender'].value_counts()\n",
    "    overall_vc.append(chunk_vc)\n",
    "combined_vc = pd.concat(overall_vc)\n",
    "final_vc = combined_vc.groupby(combined_vc.index).sum()\n",
    "print(final_vc)"
   ]
  },
  {
   "cell_type": "code",
   "execution_count": 50,
   "metadata": {
    "ExecuteTime": {
     "end_time": "2020-11-14T13:25:50.656985Z",
     "start_time": "2020-11-14T13:25:50.515445Z"
    }
   },
   "outputs": [
    {
     "name": "stdout",
     "output_type": "stream",
     "text": [
      "ExhibitionID  Gender\n",
      "2.0           Male       1\n",
      "5.0           Male       3\n",
      "6.0           Male      32\n",
      "              Female     2\n",
      "7.0           Male      69\n",
      "                        ..\n",
      "10799.0       Male      21\n",
      "              Female     8\n",
      "10800.0       Male       7\n",
      "              Female     2\n",
      "11267.0       Male       1\n",
      "Name: Gender, Length: 2214, dtype: int64\n"
     ]
    }
   ],
   "source": [
    "moma = pd.read_csv(\"data/moma.csv\", usecols=['ExhibitionID', 'Gender'])\n",
    "id_gender_counts = moma['Gender'].groupby(moma['ExhibitionID']).value_counts()\n",
    "print(id_gender_counts)"
   ]
  },
  {
   "cell_type": "code",
   "execution_count": 51,
   "metadata": {
    "ExecuteTime": {
     "end_time": "2020-11-14T13:26:23.931248Z",
     "start_time": "2020-11-14T13:26:22.619495Z"
    }
   },
   "outputs": [],
   "source": [
    "chunk_iter = pd.read_csv(\"data/moma.csv\", chunksize=250)\n",
    "df_list = []\n",
    "for chunk in chunk_iter:\n",
    "    temp = chunk['Gender'].groupby(chunk['ExhibitionID']).value_counts()\n",
    "    df_list.append(temp)\n",
    "final_df = pd.concat(df_list)\n",
    "id_gender_counts = final_df.groupby(final_df.index).sum()"
   ]
  },
  {
   "cell_type": "markdown",
   "metadata": {},
   "source": [
    "# Augmenting Pandas with SQLite"
   ]
  },
  {
   "cell_type": "code",
   "execution_count": 52,
   "metadata": {
    "ExecuteTime": {
     "end_time": "2020-11-14T13:32:31.659128Z",
     "start_time": "2020-11-14T13:32:30.430478Z"
    }
   },
   "outputs": [],
   "source": [
    "import sqlite3\n",
    "import pandas as pd\n",
    "conn = sqlite3.connect('moma.db')\n",
    "moma_iter = pd.read_csv('data/moma.csv', chunksize=1000)\n",
    "for chunk in moma_iter:\n",
    "    chunk.to_sql(\"exhibitions\", conn, if_exists='append', index=False)"
   ]
  },
  {
   "cell_type": "code",
   "execution_count": 54,
   "metadata": {
    "ExecuteTime": {
     "end_time": "2020-11-14T13:37:10.910136Z",
     "start_time": "2020-11-14T13:37:10.895873Z"
    }
   },
   "outputs": [
    {
     "name": "stdout",
     "output_type": "stream",
     "text": [
      "    cid                    name     type  notnull dflt_value  pk\n",
      "0     0            ExhibitionID  INTEGER        0       None   0\n",
      "1     1        ExhibitionNumber     TEXT        0       None   0\n",
      "2     2         ExhibitionTitle     TEXT        0       None   0\n",
      "3     3  ExhibitionCitationDate     TEXT        0       None   0\n",
      "4     4     ExhibitionBeginDate     TEXT        0       None   0\n",
      "5     5       ExhibitionEndDate     TEXT        0       None   0\n",
      "6     6     ExhibitionSortOrder  INTEGER        0       None   0\n",
      "7     7           ExhibitionURL     TEXT        0       None   0\n",
      "8     8          ExhibitionRole     TEXT        0       None   0\n",
      "9     9           ConstituentID     REAL        0       None   0\n",
      "10   10         ConstituentType     TEXT        0       None   0\n",
      "11   11             DisplayName     TEXT        0       None   0\n",
      "12   12               AlphaSort     TEXT        0       None   0\n",
      "13   13               FirstName     TEXT        0       None   0\n",
      "14   14              MiddleName     TEXT        0       None   0\n",
      "15   15                LastName     TEXT        0       None   0\n",
      "16   16                  Suffix     TEXT        0       None   0\n",
      "17   17             Institution     TEXT        0       None   0\n",
      "18   18             Nationality     TEXT        0       None   0\n",
      "19   19    ConstituentBeginDate     REAL        0       None   0\n",
      "20   20      ConstituentEndDate     REAL        0       None   0\n",
      "21   21               ArtistBio     TEXT        0       None   0\n",
      "22   22                  Gender     TEXT        0       None   0\n",
      "23   23                  VIAFID     REAL        0       None   0\n",
      "24   24              WikidataID     TEXT        0       None   0\n",
      "25   25                  ULANID     REAL        0       None   0\n",
      "26   26          ConstituentURL     TEXT        0       None   0\n"
     ]
    }
   ],
   "source": [
    "# SQLite data Types\n",
    "results_df = pd.read_sql('PRAGMA table_info(exhibitions);', conn)\n",
    "print(results_df)"
   ]
  },
  {
   "cell_type": "code",
   "execution_count": 55,
   "metadata": {
    "ExecuteTime": {
     "end_time": "2020-11-14T13:38:44.275428Z",
     "start_time": "2020-11-14T13:38:43.010155Z"
    }
   },
   "outputs": [
    {
     "name": "stdout",
     "output_type": "stream",
     "text": [
      "    cid                    name     type  notnull dflt_value  pk\n",
      "0     0            ExhibitionID  INTEGER        0       None   0\n",
      "1     1        ExhibitionNumber     TEXT        0       None   0\n",
      "2     2         ExhibitionTitle     TEXT        0       None   0\n",
      "3     3  ExhibitionCitationDate     TEXT        0       None   0\n",
      "4     4     ExhibitionBeginDate     TEXT        0       None   0\n",
      "5     5       ExhibitionEndDate     TEXT        0       None   0\n",
      "6     6     ExhibitionSortOrder  INTEGER        0       None   0\n",
      "7     7           ExhibitionURL     TEXT        0       None   0\n",
      "8     8          ExhibitionRole     TEXT        0       None   0\n",
      "9     9           ConstituentID     REAL        0       None   0\n",
      "10   10         ConstituentType     TEXT        0       None   0\n",
      "11   11             DisplayName     TEXT        0       None   0\n",
      "12   12               AlphaSort     TEXT        0       None   0\n",
      "13   13               FirstName     TEXT        0       None   0\n",
      "14   14              MiddleName     TEXT        0       None   0\n",
      "15   15                LastName     TEXT        0       None   0\n",
      "16   16                  Suffix     TEXT        0       None   0\n",
      "17   17             Institution     TEXT        0       None   0\n",
      "18   18             Nationality     TEXT        0       None   0\n",
      "19   19    ConstituentBeginDate     REAL        0       None   0\n",
      "20   20      ConstituentEndDate     REAL        0       None   0\n",
      "21   21               ArtistBio     TEXT        0       None   0\n",
      "22   22                  Gender     TEXT        0       None   0\n",
      "23   23                  VIAFID     REAL        0       None   0\n",
      "24   24              WikidataID     TEXT        0       None   0\n",
      "25   25                  ULANID     REAL        0       None   0\n",
      "26   26          ConstituentURL     TEXT        0       None   0\n"
     ]
    }
   ],
   "source": [
    "moma_iter = pd.read_csv('data/moma.csv', chunksize=1000)\n",
    "for chunk in moma_iter:\n",
    "    chunk['ExhibitionSortOrder'] = chunk['ExhibitionSortOrder'].astype('int16')\n",
    "    chunk.to_sql(\"exhibitions\", conn, if_exists='append', index=False)\n",
    "results_df = pd.read_sql('PRAGMA table_info(exhibitions);', conn)\n",
    "print(results_df)"
   ]
  },
  {
   "cell_type": "code",
   "execution_count": 56,
   "metadata": {
    "ExecuteTime": {
     "end_time": "2020-11-14T13:41:51.758049Z",
     "start_time": "2020-11-14T13:41:51.623741Z"
    }
   },
   "outputs": [
    {
     "name": "stdout",
     "output_type": "stream",
     "text": [
      "   ExhibitionID  counts\n",
      "0           NaN     858\n",
      "1           7.0     642\n",
      "2        3838.0     604\n",
      "3        3030.0     568\n",
      "4        3988.0     550\n",
      "5        2600.0     524\n",
      "6          79.0     518\n",
      "7       10601.0     512\n",
      "8        3939.0     508\n",
      "9        3036.0     488\n"
     ]
    }
   ],
   "source": [
    "q = 'select exhibitionid, count(*) as counts from exhibitions group by exhibitionid order by counts desc;'\n",
    "eid_counts = pd.read_sql(q, conn)\n",
    "print(eid_counts[:10])"
   ]
  },
  {
   "cell_type": "code",
   "execution_count": 57,
   "metadata": {
    "ExecuteTime": {
     "end_time": "2020-11-14T13:43:05.626769Z",
     "start_time": "2020-11-14T13:43:05.538097Z"
    }
   },
   "outputs": [
    {
     "name": "stdout",
     "output_type": "stream",
     "text": [
      "7.0       642\n",
      "3838.0    604\n",
      "3030.0    568\n",
      "3988.0    550\n",
      "2600.0    524\n",
      "         ... \n",
      "4164.0      6\n",
      "2863.0      6\n",
      "4249.0      6\n",
      "2896.0      6\n",
      "10.0        6\n",
      "Name: ExhibitionID, Length: 921, dtype: int64\n"
     ]
    }
   ],
   "source": [
    "q = 'select exhibitionid from exhibitions;'\n",
    "eid_df = pd.read_sql(q, conn)\n",
    "eid_pandas_counts = eid_df['ExhibitionID'].value_counts()\n",
    "print(eid_pandas_counts[:10])"
   ]
  },
  {
   "cell_type": "code",
   "execution_count": null,
   "metadata": {},
   "outputs": [],
   "source": []
  }
 ],
 "metadata": {
  "hide_input": false,
  "kernelspec": {
   "display_name": "Python 3",
   "language": "python",
   "name": "python3"
  },
  "language_info": {
   "codemirror_mode": {
    "name": "ipython",
    "version": 3
   },
   "file_extension": ".py",
   "mimetype": "text/x-python",
   "name": "python",
   "nbconvert_exporter": "python",
   "pygments_lexer": "ipython3",
   "version": "3.7.4"
  },
  "latex_envs": {
   "LaTeX_envs_menu_present": true,
   "autoclose": false,
   "autocomplete": true,
   "bibliofile": "biblio.bib",
   "cite_by": "apalike",
   "current_citInitial": 1,
   "eqLabelWithNumbers": true,
   "eqNumInitial": 1,
   "hotkeys": {
    "equation": "Ctrl-E",
    "itemize": "Ctrl-I"
   },
   "labels_anchors": false,
   "latex_user_defs": false,
   "report_style_numbering": false,
   "user_envs_cfg": false
  },
  "toc": {
   "base_numbering": 1,
   "nav_menu": {},
   "number_sections": true,
   "sideBar": true,
   "skip_h1_title": false,
   "title_cell": "Table of Contents",
   "title_sidebar": "Contents",
   "toc_cell": false,
   "toc_position": {},
   "toc_section_display": true,
   "toc_window_display": false
  }
 },
 "nbformat": 4,
 "nbformat_minor": 4
}
